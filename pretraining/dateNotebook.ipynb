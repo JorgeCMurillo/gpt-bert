{
 "cells": [
  {
   "cell_type": "code",
   "execution_count": 1,
   "metadata": {},
   "outputs": [
    {
     "name": "stdout",
     "output_type": "stream",
     "text": [
      "Requirement already satisfied: datasets in /home/jorge/miniconda3/envs/babylm/lib/python3.11/site-packages (2.18.0)\n",
      "Requirement already satisfied: filelock in /home/jorge/miniconda3/envs/babylm/lib/python3.11/site-packages (from datasets) (3.18.0)\n",
      "Requirement already satisfied: numpy>=1.17 in /home/jorge/miniconda3/envs/babylm/lib/python3.11/site-packages (from datasets) (1.26.4)\n",
      "Requirement already satisfied: pyarrow>=12.0.0 in /home/jorge/miniconda3/envs/babylm/lib/python3.11/site-packages (from datasets) (19.0.0)\n",
      "Requirement already satisfied: pyarrow-hotfix in /home/jorge/miniconda3/envs/babylm/lib/python3.11/site-packages (from datasets) (0.7)\n",
      "Requirement already satisfied: dill<0.3.9,>=0.3.0 in /home/jorge/miniconda3/envs/babylm/lib/python3.11/site-packages (from datasets) (0.3.8)\n",
      "Requirement already satisfied: pandas in /home/jorge/miniconda3/envs/babylm/lib/python3.11/site-packages (from datasets) (2.2.0)\n",
      "Requirement already satisfied: requests>=2.19.0 in /home/jorge/miniconda3/envs/babylm/lib/python3.11/site-packages (from datasets) (2.32.3)\n",
      "Requirement already satisfied: tqdm>=4.62.1 in /home/jorge/miniconda3/envs/babylm/lib/python3.11/site-packages (from datasets) (4.67.1)\n",
      "Requirement already satisfied: xxhash in /home/jorge/miniconda3/envs/babylm/lib/python3.11/site-packages (from datasets) (3.5.0)\n",
      "Requirement already satisfied: multiprocess in /home/jorge/miniconda3/envs/babylm/lib/python3.11/site-packages (from datasets) (0.70.15)\n",
      "Collecting fsspec<=2024.2.0,>=2023.1.0 (from fsspec[http]<=2024.2.0,>=2023.1.0->datasets)\n",
      "  Using cached fsspec-2024.2.0-py3-none-any.whl.metadata (6.8 kB)\n",
      "Requirement already satisfied: aiohttp in /home/jorge/miniconda3/envs/babylm/lib/python3.11/site-packages (from datasets) (3.11.18)\n",
      "Requirement already satisfied: huggingface-hub>=0.19.4 in /home/jorge/miniconda3/envs/babylm/lib/python3.11/site-packages (from datasets) (0.32.4)\n",
      "Requirement already satisfied: packaging in /home/jorge/miniconda3/envs/babylm/lib/python3.11/site-packages (from datasets) (24.2)\n",
      "Requirement already satisfied: pyyaml>=5.1 in /home/jorge/miniconda3/envs/babylm/lib/python3.11/site-packages (from datasets) (6.0.2)\n",
      "Requirement already satisfied: aiohappyeyeballs>=2.3.0 in /home/jorge/miniconda3/envs/babylm/lib/python3.11/site-packages (from aiohttp->datasets) (2.4.4)\n",
      "Requirement already satisfied: aiosignal>=1.1.2 in /home/jorge/miniconda3/envs/babylm/lib/python3.11/site-packages (from aiohttp->datasets) (1.3.2)\n",
      "Requirement already satisfied: attrs>=17.3.0 in /home/jorge/miniconda3/envs/babylm/lib/python3.11/site-packages (from aiohttp->datasets) (25.3.0)\n",
      "Requirement already satisfied: frozenlist>=1.1.1 in /home/jorge/miniconda3/envs/babylm/lib/python3.11/site-packages (from aiohttp->datasets) (1.6.0)\n",
      "Requirement already satisfied: multidict<7.0,>=4.5 in /home/jorge/miniconda3/envs/babylm/lib/python3.11/site-packages (from aiohttp->datasets) (6.4.3)\n",
      "Requirement already satisfied: propcache>=0.2.0 in /home/jorge/miniconda3/envs/babylm/lib/python3.11/site-packages (from aiohttp->datasets) (0.3.1)\n",
      "Requirement already satisfied: yarl<2.0,>=1.17.0 in /home/jorge/miniconda3/envs/babylm/lib/python3.11/site-packages (from aiohttp->datasets) (1.20.0)\n",
      "Requirement already satisfied: idna>=2.0 in /home/jorge/miniconda3/envs/babylm/lib/python3.11/site-packages (from yarl<2.0,>=1.17.0->aiohttp->datasets) (3.7)\n",
      "Requirement already satisfied: typing-extensions>=3.7.4.3 in /home/jorge/miniconda3/envs/babylm/lib/python3.11/site-packages (from huggingface-hub>=0.19.4->datasets) (4.13.2)\n",
      "Requirement already satisfied: hf-xet<2.0.0,>=1.1.2 in /home/jorge/miniconda3/envs/babylm/lib/python3.11/site-packages (from huggingface-hub>=0.19.4->datasets) (1.1.3)\n",
      "Requirement already satisfied: charset-normalizer<4,>=2 in /home/jorge/miniconda3/envs/babylm/lib/python3.11/site-packages (from requests>=2.19.0->datasets) (3.4.2)\n",
      "Requirement already satisfied: urllib3<3,>=1.21.1 in /home/jorge/miniconda3/envs/babylm/lib/python3.11/site-packages (from requests>=2.19.0->datasets) (1.26.20)\n",
      "Requirement already satisfied: certifi>=2017.4.17 in /home/jorge/miniconda3/envs/babylm/lib/python3.11/site-packages (from requests>=2.19.0->datasets) (2025.4.26)\n",
      "Requirement already satisfied: python-dateutil>=2.8.2 in /home/jorge/miniconda3/envs/babylm/lib/python3.11/site-packages (from pandas->datasets) (2.9.0.post0)\n",
      "Requirement already satisfied: pytz>=2020.1 in /home/jorge/miniconda3/envs/babylm/lib/python3.11/site-packages (from pandas->datasets) (2025.2)\n",
      "Requirement already satisfied: tzdata>=2022.7 in /home/jorge/miniconda3/envs/babylm/lib/python3.11/site-packages (from pandas->datasets) (2025.2)\n",
      "Requirement already satisfied: six>=1.5 in /home/jorge/miniconda3/envs/babylm/lib/python3.11/site-packages (from python-dateutil>=2.8.2->pandas->datasets) (1.17.0)\n",
      "Using cached fsspec-2024.2.0-py3-none-any.whl (170 kB)\n",
      "\u001b[33mWARNING: Error parsing dependencies of gym: Expected end or semicolon (after version specifier)\n",
      "    opencv-python>=3. ; extra == \"all\"\n",
      "                 ~~~^\u001b[0m\u001b[33m\n",
      "\u001b[0mInstalling collected packages: fsspec\n",
      "Successfully installed fsspec-2024.2.0\n"
     ]
    }
   ],
   "source": [
    "!pip install datasets\n"
   ]
  },
  {
   "cell_type": "code",
   "execution_count": 18,
   "metadata": {},
   "outputs": [
    {
     "name": "stdout",
     "output_type": "stream",
     "text": [
      "Collecting fsspec<=2024.2.0\n",
      "  Using cached fsspec-2024.2.0-py3-none-any.whl.metadata (6.8 kB)\n",
      "Using cached fsspec-2024.2.0-py3-none-any.whl (170 kB)\n",
      "\u001b[33mWARNING: Error parsing dependencies of gym: Expected end or semicolon (after version specifier)\n",
      "    opencv-python>=3. ; extra == \"all\"\n",
      "                 ~~~^\u001b[0m\u001b[33m\n",
      "\u001b[0mInstalling collected packages: fsspec\n",
      "Successfully installed fsspec-2024.12.0\n"
     ]
    }
   ],
   "source": [
    "!pip install --ignore-installed 'fsspec<=2024.2.0'"
   ]
  },
  {
   "cell_type": "code",
   "execution_count": 1,
   "metadata": {},
   "outputs": [],
   "source": [
    "import pandas as pd\n",
    "\n",
    "df = pd.read_json(\"hf://datasets/ltg/babylm-2024-baby-cosmo-fine-10m/train.jsonl\", lines=True)\n",
    "df.to_json(\"babycosmofine_10M.jsonl\", orient='records', lines=True)"
   ]
  },
  {
   "cell_type": "code",
   "execution_count": 6,
   "metadata": {},
   "outputs": [
    {
     "data": {
      "text/plain": [
       "'/home/jorge/tokenPred/babylm_10m/train_files/gpt-bert'"
      ]
     },
     "execution_count": 6,
     "metadata": {},
     "output_type": "execute_result"
    }
   ],
   "source": [
    "import os\n",
    "os.getcwd()\n"
   ]
  },
  {
   "cell_type": "code",
   "execution_count": null,
   "metadata": {},
   "outputs": [
    {
     "data": {
      "text/plain": [
       "['babylm-2024-baby-cosmo-fine-10m', 'README.md']"
      ]
     },
     "execution_count": 12,
     "metadata": {},
     "output_type": "execute_result"
    }
   ],
   "source": []
  }
 ],
 "metadata": {
  "kernelspec": {
   "display_name": "babylm",
   "language": "python",
   "name": "python3"
  },
  "language_info": {
   "codemirror_mode": {
    "name": "ipython",
    "version": 3
   },
   "file_extension": ".py",
   "mimetype": "text/x-python",
   "name": "python",
   "nbconvert_exporter": "python",
   "pygments_lexer": "ipython3",
   "version": "3.11.11"
  }
 },
 "nbformat": 4,
 "nbformat_minor": 2
}
